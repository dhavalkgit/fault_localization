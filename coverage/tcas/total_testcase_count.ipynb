{
 "cells": [
  {
   "cell_type": "code",
   "execution_count": 1,
   "id": "d1e983d1",
   "metadata": {},
   "outputs": [],
   "source": [
    "import pandas as pd\n",
    "import csv\n"
   ]
  },
  {
   "cell_type": "code",
   "execution_count": 2,
   "id": "d8b71b65",
   "metadata": {},
   "outputs": [],
   "source": [
    "# df=pd.read_csv('statementResultV1.csv',usecols=['Result'])  \n",
    "# print(df)"
   ]
  },
  {
   "cell_type": "code",
   "execution_count": 3,
   "id": "54808267",
   "metadata": {},
   "outputs": [],
   "source": [
    "# total_pass=0\n",
    "# total_fail=0\n",
    "# for i in range(0,len(df)):\n",
    "#     if df.iat[i,0]==0:\n",
    "#         total_pass=total_pass+1\n",
    "#     else:\n",
    "#         total_fail=total_fail+1\n",
    "# print(total_fail, total_pass)      "
   ]
  },
  {
   "cell_type": "code",
   "execution_count": 4,
   "id": "2f313b0d",
   "metadata": {},
   "outputs": [],
   "source": [
    "\n",
    "with open('testcase_info.csv','w') as csvfile:\n",
    "    sp = csv.writer(csvfile, delimiter=',')\n",
    "    l1=['version', 'total_pass','total_fail']\n",
    "    sp.writerow(l1)\n",
    "    for i in range(1,41):\n",
    "        df=pd.read_csv('statementResultV'+str(i)+'.csv',usecols=['Result'])\n",
    "        total_pass=0\n",
    "        total_fail=0\n",
    "        for j in range(0,len(df)):\n",
    "            if df.iat[j,0]==0:\n",
    "                total_pass=total_pass+1\n",
    "            else:\n",
    "                total_fail=total_fail+1\n",
    "#         print(total_fail, total_pass)\n",
    "        l2=[]\n",
    "        l2.append('version_'+str(i))\n",
    "        l2.append(total_pass)\n",
    "        l2.append(total_fail)\n",
    "        sp.writerow(l2)"
   ]
  },
  {
   "cell_type": "code",
   "execution_count": null,
   "id": "257a2a39",
   "metadata": {},
   "outputs": [],
   "source": []
  }
 ],
 "metadata": {
  "kernelspec": {
   "display_name": "Python 3 (ipykernel)",
   "language": "python",
   "name": "python3"
  },
  "language_info": {
   "codemirror_mode": {
    "name": "ipython",
    "version": 3
   },
   "file_extension": ".py",
   "mimetype": "text/x-python",
   "name": "python",
   "nbconvert_exporter": "python",
   "pygments_lexer": "ipython3",
   "version": "3.10.4"
  }
 },
 "nbformat": 4,
 "nbformat_minor": 5
}
